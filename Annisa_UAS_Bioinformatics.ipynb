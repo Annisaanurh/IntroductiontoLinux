{
 "cells": [
  {
   "cell_type": "markdown",
   "metadata": {},
   "source": [
    "INPUT ALL VARIABLES"
   ]
  },
  {
   "cell_type": "code",
   "execution_count": 9,
   "metadata": {
    "vscode": {
     "languageId": "shellscript"
    }
   },
   "outputs": [],
   "source": [
    "WORKDIR=$PWD/UAS_Bioinformatics_Annisa\n",
    "REF_GENOME_DIR=\"${WORKDIR}/Reference_Genome\"\n",
    "FASTQ_DIR=\"${WORKDIR}/Fastq_Data\"\n",
    "TRIMMED_DIR=\"${WORKDIR}/Trimmed_Data\"\n",
    "RESULTS_DIR=\"${WORKDIR}/Results\"\n",
    "QC_DIR=\"${RESULTS_DIR}/QC\"\n",
    "REF_GENOME=\"S288C_reference_genome_R64-2-1_20150113.fa\"\n",
    "REF_GENOME_ARCHIVE=\"S288C_reference_genome_Current_Release.tgz\"\n",
    "REF_GENOME_URL=\"http://downloads.yeastgenome.org/sequence/S288C_reference/genome_releases/S288C_reference_genome_Current_Release.tgz\"\n",
    " \n",
    "FASTQ_R1_URL=\"https://ftp.ncbi.nlm.nih.gov/geo/series/GSE150nnn/GSE150800/suppl/GSE150800%5Fmm10%5FmusculusSNPStospretusSNPs.fasta.gz\"\n",
    "FASTQ_R2_URL=\"https://ftp.ncbi.nlm.nih.gov/geo/series/GSE150nnn/GSE150800/suppl/GSE150800%5Fmm10%5FmusculusSNPStospretusSNPs.fasta.gz\"\n"
   ]
  },
  {
   "cell_type": "markdown",
   "metadata": {},
   "source": [
    "CREATING DIRECTORY"
   ]
  },
  {
   "cell_type": "code",
   "execution_count": 10,
   "metadata": {
    "vscode": {
     "languageId": "shellscript"
    }
   },
   "outputs": [],
   "source": [
    "mkdir -p \"${WORKDIR}\" \"${REF_GENOME_DIR}\" \"${FASTQ_DIR}\" \"${TRIMMED_DIR}\" \"${RESULTS_DIR}\" \"${QC_DIR}\"\n",
    "cd \"${WORKDIR}\"\n"
   ]
  },
  {
   "cell_type": "markdown",
   "metadata": {},
   "source": [
    "DOWNLOADING DATA"
   ]
  },
  {
   "cell_type": "code",
   "execution_count": 11,
   "metadata": {
    "vscode": {
     "languageId": "shellscript"
    }
   },
   "outputs": [
    {
     "name": "stdout",
     "output_type": "stream",
     "text": [
      "--2024-01-05 10:33:54--  http://downloads.yeastgenome.org/sequence/S288C_reference/genome_releases/S288C_reference_genome_Current_Release.tgz\n",
      "Resolving downloads.yeastgenome.org (downloads.yeastgenome.org)... 52.12.181.3, 54.148.109.74, 35.81.1.134, ...\n",
      "Connecting to downloads.yeastgenome.org (downloads.yeastgenome.org)|52.12.181.3|:80... connected.\n",
      "HTTP request sent, awaiting response... 302 Found\n",
      "Location: http://sgd-archive.yeastgenome.org/sequence/S288C_reference/genome_releases/S288C_reference_genome_Current_Release.tgz [following]\n",
      "--2024-01-05 10:33:55--  http://sgd-archive.yeastgenome.org/sequence/S288C_reference/genome_releases/S288C_reference_genome_Current_Release.tgz\n",
      "Resolving sgd-archive.yeastgenome.org (sgd-archive.yeastgenome.org)... 52.92.236.203, 52.218.246.106, 52.92.130.59, ...\n",
      "Connecting to sgd-archive.yeastgenome.org (sgd-archive.yeastgenome.org)|52.92.236.203|:80... connected.\n",
      "HTTP request sent, awaiting response... 200 OK\n",
      "Length: 21142292 (20M) [application/gzip]\n",
      "Saving to: ‘/home/annisa/Documents/teaching_linux_bash/UAS_Bioinformatics/UAS_Bioinformatics_Annisa/Reference_Genome/S288C_reference_genome_Current_Release.tgz’\n",
      "\n",
      "S288C_reference_gen 100%[===================>]  20,16M  1,34MB/s    in 14s     \n",
      "\n",
      "2024-01-05 10:34:11 (1,42 MB/s) - ‘/home/annisa/Documents/teaching_linux_bash/UAS_Bioinformatics/UAS_Bioinformatics_Annisa/Reference_Genome/S288C_reference_genome_Current_Release.tgz’ saved [21142292/21142292]\n",
      "\n",
      "S288C_reference_genome_R64-4-1_20230830/\n",
      "S288C_reference_genome_R64-4-1_20230830/saccharomyces_cerevisiae_R64-4-1_20230830.gff.gz\n",
      "S288C_reference_genome_R64-4-1_20230830/orf_coding_all_R64-4-1_20230830.fasta.gz\n",
      "S288C_reference_genome_R64-4-1_20230830/gene_association_R64-4-1_20230830.sgd.gz\n",
      "S288C_reference_genome_R64-4-1_20230830/other_features_genomic_R64-4-1_20230830.fasta.gz\n",
      "S288C_reference_genome_R64-4-1_20230830/orf_trans_all_R64-4-1_20230830.fasta.gz\n",
      "S288C_reference_genome_R64-4-1_20230830/S288C_reference_sequence_R64-4-1_20230830.fsa.gz\n",
      "S288C_reference_genome_R64-4-1_20230830/NotFeature_R64-4-1_20230830.fasta.gz\n",
      "S288C_reference_genome_R64-4-1_20230830/rna_coding_R64-4-1_20230830.fasta.gz\n",
      "--2024-01-05 10:34:12--  https://ftp.ncbi.nlm.nih.gov/geo/series/GSE150nnn/GSE150800/suppl/GSE150800%5Fmm10%5FmusculusSNPStospretusSNPs.fasta.gz\n",
      "Resolving ftp.ncbi.nlm.nih.gov (ftp.ncbi.nlm.nih.gov)... 130.14.250.7, 130.14.250.10, 2607:f220:41e:250::12, ...\n",
      "Connecting to ftp.ncbi.nlm.nih.gov (ftp.ncbi.nlm.nih.gov)|130.14.250.7|:443... connected.\n",
      "HTTP request sent, awaiting response... 200 OK\n",
      "Length: 813191354 (776M) [application/x-gzip]\n",
      "Saving to: ‘/home/annisa/Documents/teaching_linux_bash/UAS_Bioinformatics/UAS_Bioinformatics_Annisa/Fastq_Data/GSE150800_mm10_musculusSNPStospretusSNPs.fasta.gz’\n",
      "\n",
      "GSE150800_mm10_musc  10%[=>                  ]  79,91M   689KB/s    in 2m 15s  \n",
      "\n",
      "2024-01-05 10:36:29 (605 KB/s) - Connection closed at byte 83787776. Retrying.\n",
      "\n",
      "--2024-01-05 10:36:30--  (try: 2)  https://ftp.ncbi.nlm.nih.gov/geo/series/GSE150nnn/GSE150800/suppl/GSE150800%5Fmm10%5FmusculusSNPStospretusSNPs.fasta.gz\n",
      "Connecting to ftp.ncbi.nlm.nih.gov (ftp.ncbi.nlm.nih.gov)|130.14.250.7|:443... connected.\n",
      "HTTP request sent, awaiting response... 206 Partial Content\n",
      "Length: 813191354 (776M), 729403578 (696M) remaining [application/x-gzip]\n",
      "Saving to: ‘/home/annisa/Documents/teaching_linux_bash/UAS_Bioinformatics/UAS_Bioinformatics_Annisa/Fastq_Data/GSE150800_mm10_musculusSNPStospretusSNPs.fasta.gz’\n",
      "\n",
      "_musculusSNPStospre  46%[++======>           ] 358,52M  1,68MB/s    eta 10m 39s\n"
     ]
    }
   ],
   "source": [
    "# Downloading the reference genome if it does not exist or is empty\n",
    "if [ ! -s \"${REF_GENOME_DIR}/${REF_GENOME_ARCHIVE}\" ]; then\n",
    "    wget -P \"${REF_GENOME_DIR}\" $REF_GENOME_URL\n",
    "    tar -xzvf \"${REF_GENOME_DIR}/${REF_GENOME_ARCHIVE}\" -C \"${REF_GENOME_DIR}\"\n",
    "else\n",
    "    echo \"Reference genome archive already exists and is not empty.\"\n",
    "fi\n",
    "\n",
    "# Downloading FASTQ files if they do not exist or are empty\n",
    "if [ ! -s \"${FASTQ_DIR}/$(basename ${FASTQ_R1_URL})\" ]; then\n",
    "    wget -P \"${FASTQ_DIR}\" \"${FASTQ_R1_URL}\"\n",
    "else\n",
    "    echo \"FASTQ R1 file already exists and is not empty.\"\n",
    "fi\n",
    "\n",
    "if [ ! -s \"${FASTQ_DIR}/$(basename ${FASTQ_R2_URL})\" ]; then\n",
    "    wget -P \"${FASTQ_DIR}\" \"${FASTQ_R2_URL}\"\n",
    "else\n",
    "    echo \"FASTQ R2 file already exists and is not empty.\"\n",
    "fi"
   ]
  },
  {
   "cell_type": "markdown",
   "metadata": {},
   "source": [
    "QUALITY CONTROL"
   ]
  },
  {
   "cell_type": "code",
   "execution_count": 13,
   "metadata": {
    "vscode": {
     "languageId": "shellscript"
    }
   },
   "outputs": [
    {
     "name": "stdout",
     "output_type": "stream",
     "text": [
      "Skipping '/home/annisa/Documents/teaching_linux_bash/UAS_Bioinformatics/UAS_Bioinformatics_Annisa/Fastq_Data/*.fastq.gz' which didn't exist, or couldn't be read\n"
     ]
    }
   ],
   "source": [
    "fastqc \"${FASTQ_DIR}\"/*.fastq.gz -o \"${QC_DIR}\""
   ]
  },
  {
   "cell_type": "markdown",
   "metadata": {},
   "source": [
    "READ TRIMMING USING TRIMMOMATIC"
   ]
  },
  {
   "cell_type": "code",
   "execution_count": 14,
   "metadata": {
    "vscode": {
     "languageId": "shellscript"
    }
   },
   "outputs": [
    {
     "name": "stdout",
     "output_type": "stream",
     "text": [
      "trimmomatic: command not found\n"
     ]
    },
    {
     "ename": "",
     "evalue": "127",
     "output_type": "error",
     "traceback": []
    }
   ],
   "source": [
    "trimmomatic PE -phred33 \\\n",
    "\"${FASTQ_DIR}/$(basename ${FASTQ_R1_URL})\" \"${FASTQ_DIR}/$(basename ${FASTQ_R2_URL})\" \\\n",
    "\"${TRIMMED_DIR}/trimmed_R1.fastq.gz\" \"${TRIMMED_DIR}/unpaired_R1.fastq.gz\" \\\n",
    "\"${TRIMMED_DIR}/trimmed_R2.fastq.gz\" \"${TRIMMED_DIR}/unpaired_R2.fastq.gz\" \\\n",
    "LEADING:3 TRAILING:3 SLIDINGWINDOW:4:15 MINLEN:36"
   ]
  },
  {
   "cell_type": "markdown",
   "metadata": {},
   "source": [
    "READ ALIGNMENT"
   ]
  },
  {
   "cell_type": "code",
   "execution_count": 15,
   "metadata": {
    "vscode": {
     "languageId": "shellscript"
    }
   },
   "outputs": [
    {
     "name": "stdout",
     "output_type": "stream",
     "text": [
      "[bwa_idx_build] fail to open file '/home/annisa/Documents/teaching_linux_bash/UAS_Bioinformatics/UAS_Bioinformatics_Annisa/Reference_Genome/S288C_reference_genome_R64-2-1_20150113.fa' : No such file or directory\n"
     ]
    },
    {
     "name": "stdout",
     "output_type": "stream",
     "text": [
      "[E::bwa_idx_load_from_disk] fail to locate the index files\n"
     ]
    },
    {
     "ename": "",
     "evalue": "1",
     "output_type": "error",
     "traceback": []
    }
   ],
   "source": [
    "bwa index \"${REF_GENOME_DIR}/${REF_GENOME}\"\n",
    "bwa mem \"${REF_GENOME_DIR}/${REF_GENOME}\" \"${TRIMMED_DIR}/trimmed_R1.fastq.gz\" \"${TRIMMED_DIR}/trimmed_R2.fastq.gz\" > \"${RESULTS_DIR}/aligned_reads.sam\""
   ]
  },
  {
   "cell_type": "markdown",
   "metadata": {},
   "source": [
    "POST-ALIGNMENT PROCESSING"
   ]
  },
  {
   "cell_type": "code",
   "execution_count": 12,
   "metadata": {
    "vscode": {
     "languageId": "shellscript"
    }
   },
   "outputs": [
    {
     "name": "stdout",
     "output_type": "stream",
     "text": [
      "Command 'samtools' not found, but can be installed with:\n",
      "sudo apt install samtools\n",
      "Command 'samtools' not found, but can be installed with:\n",
      "sudo apt install samtools\n",
      "Command 'picard' not found, but can be installed with:\n",
      "sudo snap install picard  # version 2.10, or\n",
      "sudo apt  install picard  # version 2.7.3-1\n",
      "See 'snap info picard' for additional versions.\n"
     ]
    },
    {
     "ename": "",
     "evalue": "127",
     "output_type": "error",
     "traceback": []
    }
   ],
   "source": [
    "samtools view -bS \"${RESULTS_DIR}/aligned_reads.sam\" | samtools sort -o \"${RESULTS_DIR}/sorted_aligned_reads.bam\"\n",
    "picard MarkDuplicates I=\"${RESULTS_DIR}/sorted_aligned_reads.bam\" O=\"${RESULTS_DIR}/marked_duplicates.bam\" M=\"${RESULTS_DIR}/marked_dup_metrics.txt\""
   ]
  },
  {
   "cell_type": "markdown",
   "metadata": {},
   "source": [
    "VARIANT CALLING"
   ]
  },
  {
   "cell_type": "code",
   "execution_count": null,
   "metadata": {
    "vscode": {
     "languageId": "shellscript"
    }
   },
   "outputs": [],
   "source": [
    "freebayes -f \"${REF_GENOME_DIR}/${REF_GENOME}\" \"${RESULTS_DIR}/marked_duplicates.bam\" > \"${RESULTS_DIR}/variants.vcf\""
   ]
  },
  {
   "cell_type": "markdown",
   "metadata": {},
   "source": [
    "QUALITY CONTROL ANALYSIS WITH MULTIQC"
   ]
  },
  {
   "cell_type": "code",
   "execution_count": null,
   "metadata": {
    "vscode": {
     "languageId": "shellscript"
    }
   },
   "outputs": [],
   "source": [
    "multiqc \"${QC_DIR}\" -o \"${QC_DIR}\""
   ]
  },
  {
   "cell_type": "markdown",
   "metadata": {},
   "source": [
    "GENERATING A BASIC PLOT USING R"
   ]
  },
  {
   "cell_type": "code",
   "execution_count": null,
   "metadata": {
    "vscode": {
     "languageId": "shellscript"
    }
   },
   "outputs": [],
   "source": [
    "library(vcfR)\n",
    "vcf <- read.vcfR('${RESULTS_DIR}/variants.vcf')\n",
    "\n",
    "variant_summary <- summary(vcf)\n",
    "\n",
    "pdf('${RESULTS_DIR}/variant_stats_plot.pdf')\n",
    "plot(variant_summary)\n",
    "dev.off()\n",
    "\" > \"${RESULTS_DIR}/variant_stats.R\"\n",
    "Rscript \"${RESULTS_DIR}/variant_stats.R\"\n",
    "\n",
    "echo \"Workflow completed.\""
   ]
  }
 ],
 "metadata": {
  "kernelspec": {
   "display_name": "Bash",
   "language": "bash",
   "name": "bash"
  },
  "language_info": {
   "codemirror_mode": "shell",
   "file_extension": ".sh",
   "mimetype": "text/x-sh",
   "name": "bash"
  }
 },
 "nbformat": 4,
 "nbformat_minor": 2
}
